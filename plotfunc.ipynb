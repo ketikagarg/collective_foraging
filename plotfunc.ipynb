{
 "cells": [
  {
   "cell_type": "code",
   "execution_count": 15,
   "metadata": {},
   "outputs": [],
   "source": [
    "from __future__ import division, print_function\n",
    "\n",
    "import random\n",
    "\n",
    "import math\n",
    "import os\n",
    "=import random\n",
    "import shutil\n",
    "import numpy as np\n",
    "from scipy import spatial as st \n",
    "import matplotlib.pyplot as plt\n",
    "\n",
    "import matplotlib.ticker as ticker\n",
    "from periodic_kdtree import PeriodicCKDTree\n",
    "from sklearn.cluster import DBSCAN\n",
    "from scipy import stats as sts\n",
    "import pandas as pd\n",
    "import warnings\n",
    "=warnings.filterwarnings(\"ignore\", category=DeprecationWarning) \n",
    "import time\n",
    "import pylab as pl\n",
    "\n",
    "import sys\n",
    "import copy\n",
    "import itertools\n",
    "# import multiprocessing\n",
    "from ipywidgets import interact, interactive, fixed, interact_manual\n",
    "import ipywidgets as widgets\n",
    "import pylab as pl\n",
    "from IPython import display\n",
    "from IPython.display import display, clear_output\n",
    "from ipynb.fs.full.main_module import main"
   ]
  },
  {
   "cell_type": "code",
   "execution_count": 1,
   "metadata": {},
   "outputs": [],
   "source": [
    "folder = \"test2\"\n",
    "radius_interaction = [1]\n",
    "\n",
    "\n",
    "\n"
   ]
  },
  {
   "cell_type": "code",
   "execution_count": 30,
   "metadata": {},
   "outputs": [],
   "source": [
    "def draw(w):\n",
    "    \n",
    "#     from main_module import main\n",
    "    fig = plt.figure(figsize=(9,9))\n",
    "    ax = fig.subplots(1,1)\n",
    "\n",
    "    plt.ion()\n",
    "    ax.set_facecolor('white')\n",
    "    fig.show()\n",
    "    fig.canvas.draw()\n",
    "\n",
    "    trees = [w.kwargs['targets']]\n",
    "    betas = [w.kwargs['beta']]\n",
    "    agents = [w.kwargs['agents']]\n",
    "    mu_range = [w.kwargs['mu']]\n",
    "    alpha_range = [float(w.kwargs['alpha'])]\n",
    "    tick_speed = w.kwargs['tick_speed']\n",
    "    runs = float(w.kwargs['runs'])\n",
    "    save = w.kwargs['save']\n",
    "#     print(save)\n",
    "#     runs = 10\n",
    " \n",
    "\n",
    "    var_list = [trees[0], agents[0], betas[0], mu_range[0], alpha_range[0]]\n",
    "    string_ints = [str(int) for int in var_list]\n",
    "    z = 0\n",
    "    filename = \"_\".join(string_ints)\n",
    "    if save == True:\n",
    "        if os.path.exists(folder) and os.path.isdir(folder):\n",
    "            shutil.rmtree(folder)\n",
    "\n",
    "        os.mkdir(folder)\n",
    "#         filename = \"test\"\n",
    "        f2 = open(folder+\"/\"+filename+\".txt\", 'a')\n",
    "        \n",
    "    while z < runs:     \n",
    "        paramlist = list(itertools.product(trees,agents,betas,radius_interaction, mu_range, alpha_range))\n",
    "        print(paramlist[0])\n",
    "        result = main(paramlist[0], fig, ax, tick_speed)\n",
    "        if save == True:\n",
    "            f2.write(result)\n",
    "        z = z+1\n",
    "    if save == True:\n",
    "        f2.close()\n",
    "            "
   ]
  },
  {
   "cell_type": "code",
   "execution_count": 2,
   "metadata": {
    "lines_to_next_cell": 0
   },
   "outputs": [],
   "source": [
    "def f(targets, beta, agents, mu, alpha, tick_speed, runs, save):\n",
    "    return\n",
    "\n",
    "def create_widgets() :\n",
    "    w = interactive(f, targets = widgets.IntSlider(min=0, max=10000, step=1000, value=1000), beta = widgets.FloatSlider(min=1.1, max=3.5, step=0.1, value=3), agents = widgets.IntSlider(min=1, max=100, step=1, value=10), mu = widgets.FloatSlider(min=1.1, max=3.5, step=0.1, value=3), alpha = widgets.Text('0.001'), tick_speed = widgets.IntSlider(min=1, max=100, step=1, value=10),  runs = widgets.Text('10'), save=widgets.Checkbox(value=False, description='Save output?')  )\n",
    "    return w"
   ]
  },
  {
   "cell_type": "code",
   "execution_count": null,
   "metadata": {},
   "outputs": [],
   "source": []
  },
  {
   "cell_type": "code",
   "execution_count": null,
   "metadata": {},
   "outputs": [],
   "source": []
  },
  {
   "cell_type": "code",
   "execution_count": null,
   "metadata": {
    "lines_to_next_cell": 2
   },
   "outputs": [],
   "source": []
  }
 ],
 "metadata": {
  "jupytext": {
   "formats": "py:light",
   "text_representation": {
    "extension": ".py",
    "format_name": "light",
    "format_version": "1.5",
    "jupytext_version": "1.11.0"
   }
  },
  "kernelspec": {
   "display_name": "Python 3",
   "language": "python",
   "name": "python3"
  },
  "language_info": {
   "codemirror_mode": {
    "name": "ipython",
    "version": 3
   },
   "file_extension": ".py",
   "mimetype": "text/x-python",
   "name": "python",
   "nbconvert_exporter": "python",
   "pygments_lexer": "ipython3",
   "version": "3.8.3"
  }
 },
 "nbformat": 4,
 "nbformat_minor": 4
}
